{
 "cells": [
  {
   "cell_type": "markdown",
   "metadata": {},
   "source": [
    "# Lab 4: Ensemble Models\n",
    "\n",
    "\n",
    "In this lab we'll get some hands on experience with ensemble classifiers we've seen in class\n"
   ]
  },
  {
   "cell_type": "markdown",
   "metadata": {},
   "source": [
    "## Goals for this lab\n",
    "\n",
    "- Understand the practical implications for changing the parameters used in ensemble models such as bagging, boosting, and random forests"
   ]
  },
  {
   "cell_type": "code",
   "execution_count": 6,
   "metadata": {
    "collapsed": true
   },
   "outputs": [],
   "source": [
    "### import matplotlib.pyplot as plt\n",
    "import numpy as np\n",
    "import pandas as pd\n",
    "import sklearn.tree as tree\n",
    "from sklearn.tree import DecisionTreeClassifier\n",
    "from sklearn.neighbors import KNeighborsClassifier\n",
    "from sklearn.model_selection import train_test_split\n",
    "from sklearn.metrics import accuracy_score as accuracy\n",
    "import graphviz # If you don't have this, install via pip/conda\n",
    "%matplotlib inline\n",
    "\n",
    "# exercise: what additional modules should you import?"
   ]
  },
  {
   "cell_type": "markdown",
   "metadata": {},
   "source": [
    "# Data\n",
    "We'll continue to use the same data as in the previous lab.\n",
    "\n",
    "It is a subset of the data set from https://www.kaggle.com/new-york-state/nys-patient-characteristics-survey-pcs-2015\n",
    "\n",
    "The data has been downloaded, modified, and is in the github repo for the lab\n",
    "\n",
    "You should also try this with other data sets you have been provided for the homeworks."
   ]
  },
  {
   "cell_type": "code",
   "execution_count": 8,
   "metadata": {
    "collapsed": true
   },
   "outputs": [],
   "source": [
    "# Change this to wherever you're storing your data\n",
    "datafile = '../data/nysmedicaldata.csv'\n",
    "df = pd.read_csv(datafile)"
   ]
  },
  {
   "cell_type": "code",
   "execution_count": 9,
   "metadata": {},
   "outputs": [
    {
     "data": {
      "text/html": [
       "<div>\n",
       "<style scoped>\n",
       "    .dataframe tbody tr th:only-of-type {\n",
       "        vertical-align: middle;\n",
       "    }\n",
       "\n",
       "    .dataframe tbody tr th {\n",
       "        vertical-align: top;\n",
       "    }\n",
       "\n",
       "    .dataframe thead th {\n",
       "        text-align: right;\n",
       "    }\n",
       "</style>\n",
       "<table border=\"1\" class=\"dataframe\">\n",
       "  <thead>\n",
       "    <tr style=\"text-align: right;\">\n",
       "      <th></th>\n",
       "      <th>Region Served</th>\n",
       "      <th>Age Group</th>\n",
       "      <th>Sex</th>\n",
       "      <th>Transgender</th>\n",
       "      <th>Sexual Orientation</th>\n",
       "      <th>Hispanic Ethnicity</th>\n",
       "      <th>Race</th>\n",
       "      <th>Living Situation</th>\n",
       "      <th>Household Composition</th>\n",
       "      <th>Preferred Language</th>\n",
       "      <th>...</th>\n",
       "      <th>No Insurance</th>\n",
       "      <th>Unknown Insurance Coverage</th>\n",
       "      <th>Medicaid Insurance</th>\n",
       "      <th>Medicaid Managed Insurance</th>\n",
       "      <th>Medicare Insurance</th>\n",
       "      <th>Private Insurance</th>\n",
       "      <th>Child Health Plus Insurance</th>\n",
       "      <th>Other Insurance</th>\n",
       "      <th>Criminal Justice Status</th>\n",
       "      <th>Three Digit Residence Zip Code</th>\n",
       "    </tr>\n",
       "  </thead>\n",
       "  <tbody>\n",
       "    <tr>\n",
       "      <th>0</th>\n",
       "      <td>HUDSON RIVER REGION</td>\n",
       "      <td>ADULT</td>\n",
       "      <td>MALE</td>\n",
       "      <td>NO, NOT TRANSGENDER</td>\n",
       "      <td>STRAIGHT OR HETEROSEXUAL</td>\n",
       "      <td>YES</td>\n",
       "      <td>OTHER</td>\n",
       "      <td>OTHER LIVING SITUATION</td>\n",
       "      <td>NOT APPLICABLE</td>\n",
       "      <td>ENGLISH</td>\n",
       "      <td>...</td>\n",
       "      <td>NO</td>\n",
       "      <td>NO</td>\n",
       "      <td>YES</td>\n",
       "      <td>NO</td>\n",
       "      <td>NO</td>\n",
       "      <td>NO</td>\n",
       "      <td>NO</td>\n",
       "      <td>NO</td>\n",
       "      <td>YES</td>\n",
       "      <td>113</td>\n",
       "    </tr>\n",
       "    <tr>\n",
       "      <th>1</th>\n",
       "      <td>NEW YORK CITY REGION</td>\n",
       "      <td>ADULT</td>\n",
       "      <td>MALE</td>\n",
       "      <td>NO, NOT TRANSGENDER</td>\n",
       "      <td>STRAIGHT OR HETEROSEXUAL</td>\n",
       "      <td>NO, NOT HISPANIC/LATINO</td>\n",
       "      <td>WHITE ONLY</td>\n",
       "      <td>INSTITUTIONAL SETTING</td>\n",
       "      <td>NOT APPLICABLE</td>\n",
       "      <td>ENGLISH</td>\n",
       "      <td>...</td>\n",
       "      <td>NO</td>\n",
       "      <td>NO</td>\n",
       "      <td>YES</td>\n",
       "      <td>NO</td>\n",
       "      <td>UNKNOWN</td>\n",
       "      <td>NO</td>\n",
       "      <td>NO</td>\n",
       "      <td>UNKNOWN</td>\n",
       "      <td>YES</td>\n",
       "      <td>113</td>\n",
       "    </tr>\n",
       "    <tr>\n",
       "      <th>2</th>\n",
       "      <td>HUDSON RIVER REGION</td>\n",
       "      <td>ADULT</td>\n",
       "      <td>MALE</td>\n",
       "      <td>NO, NOT TRANSGENDER</td>\n",
       "      <td>STRAIGHT OR HETEROSEXUAL</td>\n",
       "      <td>NO, NOT HISPANIC/LATINO</td>\n",
       "      <td>WHITE ONLY</td>\n",
       "      <td>PRIVATE RESIDENCE</td>\n",
       "      <td>COHABITATES WITH OTHERS</td>\n",
       "      <td>ENGLISH</td>\n",
       "      <td>...</td>\n",
       "      <td>NO</td>\n",
       "      <td>NO</td>\n",
       "      <td>YES</td>\n",
       "      <td>NO</td>\n",
       "      <td>NO</td>\n",
       "      <td>NO</td>\n",
       "      <td>NO</td>\n",
       "      <td>NO</td>\n",
       "      <td>YES</td>\n",
       "      <td>107</td>\n",
       "    </tr>\n",
       "    <tr>\n",
       "      <th>3</th>\n",
       "      <td>NEW YORK CITY REGION</td>\n",
       "      <td>ADULT</td>\n",
       "      <td>FEMALE</td>\n",
       "      <td>NO, NOT TRANSGENDER</td>\n",
       "      <td>STRAIGHT OR HETEROSEXUAL</td>\n",
       "      <td>NO, NOT HISPANIC/LATINO</td>\n",
       "      <td>OTHER</td>\n",
       "      <td>OTHER LIVING SITUATION</td>\n",
       "      <td>NOT APPLICABLE</td>\n",
       "      <td>ASIAN AND PACIFIC ISLAND</td>\n",
       "      <td>...</td>\n",
       "      <td>YES</td>\n",
       "      <td>NO</td>\n",
       "      <td>NO</td>\n",
       "      <td>NOT APPLICABLE</td>\n",
       "      <td>NO</td>\n",
       "      <td>NO</td>\n",
       "      <td>NO</td>\n",
       "      <td>NO</td>\n",
       "      <td>YES</td>\n",
       "      <td>888</td>\n",
       "    </tr>\n",
       "    <tr>\n",
       "      <th>4</th>\n",
       "      <td>LONG ISLAND REGION</td>\n",
       "      <td>ADULT</td>\n",
       "      <td>MALE</td>\n",
       "      <td>NO, NOT TRANSGENDER</td>\n",
       "      <td>STRAIGHT OR HETEROSEXUAL</td>\n",
       "      <td>NO, NOT HISPANIC/LATINO</td>\n",
       "      <td>BLACK ONLY</td>\n",
       "      <td>OTHER LIVING SITUATION</td>\n",
       "      <td>NOT APPLICABLE</td>\n",
       "      <td>ENGLISH</td>\n",
       "      <td>...</td>\n",
       "      <td>NO</td>\n",
       "      <td>NO</td>\n",
       "      <td>YES</td>\n",
       "      <td>UNKNOWN</td>\n",
       "      <td>YES</td>\n",
       "      <td>NO</td>\n",
       "      <td>NO</td>\n",
       "      <td>NO</td>\n",
       "      <td>NO</td>\n",
       "      <td>117</td>\n",
       "    </tr>\n",
       "  </tbody>\n",
       "</table>\n",
       "<p>5 rows × 65 columns</p>\n",
       "</div>"
      ],
      "text/plain": [
       "          Region Served Age Group     Sex          Transgender  \\\n",
       "0   HUDSON RIVER REGION     ADULT    MALE  NO, NOT TRANSGENDER   \n",
       "1  NEW YORK CITY REGION     ADULT    MALE  NO, NOT TRANSGENDER   \n",
       "2   HUDSON RIVER REGION     ADULT    MALE  NO, NOT TRANSGENDER   \n",
       "3  NEW YORK CITY REGION     ADULT  FEMALE  NO, NOT TRANSGENDER   \n",
       "4    LONG ISLAND REGION     ADULT    MALE  NO, NOT TRANSGENDER   \n",
       "\n",
       "         Sexual Orientation       Hispanic Ethnicity        Race  \\\n",
       "0  STRAIGHT OR HETEROSEXUAL                      YES       OTHER   \n",
       "1  STRAIGHT OR HETEROSEXUAL  NO, NOT HISPANIC/LATINO  WHITE ONLY   \n",
       "2  STRAIGHT OR HETEROSEXUAL  NO, NOT HISPANIC/LATINO  WHITE ONLY   \n",
       "3  STRAIGHT OR HETEROSEXUAL  NO, NOT HISPANIC/LATINO       OTHER   \n",
       "4  STRAIGHT OR HETEROSEXUAL  NO, NOT HISPANIC/LATINO  BLACK ONLY   \n",
       "\n",
       "         Living Situation    Household Composition        Preferred Language  \\\n",
       "0  OTHER LIVING SITUATION           NOT APPLICABLE                   ENGLISH   \n",
       "1   INSTITUTIONAL SETTING           NOT APPLICABLE                   ENGLISH   \n",
       "2       PRIVATE RESIDENCE  COHABITATES WITH OTHERS                   ENGLISH   \n",
       "3  OTHER LIVING SITUATION           NOT APPLICABLE  ASIAN AND PACIFIC ISLAND   \n",
       "4  OTHER LIVING SITUATION           NOT APPLICABLE                   ENGLISH   \n",
       "\n",
       "   ... No Insurance Unknown Insurance Coverage Medicaid Insurance  \\\n",
       "0  ...           NO                         NO                YES   \n",
       "1  ...           NO                         NO                YES   \n",
       "2  ...           NO                         NO                YES   \n",
       "3  ...          YES                         NO                 NO   \n",
       "4  ...           NO                         NO                YES   \n",
       "\n",
       "  Medicaid Managed Insurance Medicare Insurance Private Insurance  \\\n",
       "0                         NO                 NO                NO   \n",
       "1                         NO            UNKNOWN                NO   \n",
       "2                         NO                 NO                NO   \n",
       "3             NOT APPLICABLE                 NO                NO   \n",
       "4                    UNKNOWN                YES                NO   \n",
       "\n",
       "  Child Health Plus Insurance Other Insurance Criminal Justice Status  \\\n",
       "0                          NO              NO                     YES   \n",
       "1                          NO         UNKNOWN                     YES   \n",
       "2                          NO              NO                     YES   \n",
       "3                          NO              NO                     YES   \n",
       "4                          NO              NO                      NO   \n",
       "\n",
       "  Three Digit Residence Zip Code  \n",
       "0                            113  \n",
       "1                            113  \n",
       "2                            107  \n",
       "3                            888  \n",
       "4                            117  \n",
       "\n",
       "[5 rows x 65 columns]"
      ]
     },
     "execution_count": 9,
     "metadata": {},
     "output_type": "execute_result"
    }
   ],
   "source": [
    "df.head()"
   ]
  },
  {
   "cell_type": "markdown",
   "metadata": {},
   "source": [
    "## 1. Create label/outcome\n",
    "One thing we can do with this dataset is to try to use the various feature columns to classify whether a person has High Blood Pressure. Let's create a column that is 1 if a person has High Blood Pressure and 0 otherwise"
   ]
  },
  {
   "cell_type": "code",
   "execution_count": null,
   "metadata": {
    "collapsed": true
   },
   "outputs": [],
   "source": [
    "# code"
   ]
  },
  {
   "cell_type": "markdown",
   "metadata": {},
   "source": [
    "### Question: what percentage of people have High Blood Pressure?"
   ]
  },
  {
   "cell_type": "code",
   "execution_count": null,
   "metadata": {
    "collapsed": true
   },
   "outputs": [],
   "source": [
    "# code"
   ]
  },
  {
   "cell_type": "markdown",
   "metadata": {},
   "source": [
    "## 2. create or select existing predictors/features\n",
    "\n",
    "For now, let's take a handful of existing columns to use.\n",
    "\n",
    "sklearn needs features to be numeric and not categorical so we'll have to turn our selected features to be binary (also known as dummy variables)"
   ]
  },
  {
   "cell_type": "code",
   "execution_count": null,
   "metadata": {
    "collapsed": true
   },
   "outputs": [],
   "source": [
    "# code"
   ]
  },
  {
   "cell_type": "code",
   "execution_count": null,
   "metadata": {
    "collapsed": true
   },
   "outputs": [],
   "source": [
    "# code"
   ]
  },
  {
   "cell_type": "markdown",
   "metadata": {},
   "source": [
    "# Train/Test Splits\n",
    "\n",
    "Create a train/test set split using sklearn's [train_test_split](http://scikit-learn.org/stable/modules/generated/sklearn.model_selection.train_test_split.html) function. We'll use these train/test splits for evaluating all our classification models."
   ]
  },
  {
   "cell_type": "code",
   "execution_count": null,
   "metadata": {
    "collapsed": true
   },
   "outputs": [],
   "source": [
    "# code"
   ]
  },
  {
   "cell_type": "markdown",
   "metadata": {
    "collapsed": true
   },
   "source": [
    "# Bagging\n",
    "See the sklearn documentation on Logistic Regression to see its parameters. We'll mostly be interested in:\n",
    "- n_estimators\n",
    "You can explore 2 more:\n",
    "- base_estimator\n",
    "- n_jobs"
   ]
  },
  {
   "cell_type": "markdown",
   "metadata": {},
   "source": [
    "Remember that when training a model, **you should only use the training data!** The test set is reserved exclusively for evaluating your model. Now let's use the classifier:"
   ]
  },
  {
   "cell_type": "code",
   "execution_count": 1,
   "metadata": {
    "collapsed": true
   },
   "outputs": [],
   "source": [
    "# code\n"
   ]
  },
  {
   "cell_type": "markdown",
   "metadata": {},
   "source": [
    "## Bagging Tasks:\n",
    "\n",
    "The goal here is to explore different parameters to see their impact. How does each performance metric change, using different thresholds, as you vary the parameters?  You can write a nested for loop that loops over all the parameters and values and store the results in a data frame (similar to last lab)"
   ]
  },
  {
   "cell_type": "code",
   "execution_count": 4,
   "metadata": {
    "collapsed": true
   },
   "outputs": [],
   "source": [
    "# code"
   ]
  },
  {
   "cell_type": "markdown",
   "metadata": {},
   "source": [
    "## What is the effect of changing the base_estimator?"
   ]
  },
  {
   "cell_type": "markdown",
   "metadata": {},
   "source": [
    "What happens when you use different models inside bagging? What if you use logistic regresssion? Does the performance of LR by itself better or worse than if you use it with bagging? How does it change if you increase the number of estimators (bags)? \n",
    "\n",
    "You can try it with a simple metric at first, let's say AUC."
   ]
  },
  {
   "cell_type": "code",
   "execution_count": 9,
   "metadata": {
    "collapsed": true
   },
   "outputs": [],
   "source": [
    "# code"
   ]
  },
  {
   "cell_type": "markdown",
   "metadata": {},
   "source": [
    "# Boosting\n",
    "We'll start by using adaboost, that is one of the boosting classifiers implemented in sklearn.\n",
    "https://scikit-learn.org/stable/modules/generated/sklearn.ensemble.AdaBoostClassifier.html\n",
    "\n",
    "Similar to bagging, there are two parameters to explore:\n",
    "- n_estimators (number of rounds of boosting)\n",
    "- base_estimator\n",
    "\n",
    "Why is there no n_jobs parameter here?\n",
    "\n",
    "\n",
    "\n",
    "We can explore other boosting methods later such as gradient boosting\n",
    "https://scikit-learn.org/stable/modules/generated/sklearn.ensemble.GradientBoostingClassifier.html"
   ]
  },
  {
   "cell_type": "raw",
   "metadata": {},
   "source": [
    "### Let's fit an adaboost model "
   ]
  },
  {
   "cell_type": "code",
   "execution_count": null,
   "metadata": {
    "collapsed": true
   },
   "outputs": [],
   "source": []
  },
  {
   "cell_type": "markdown",
   "metadata": {},
   "source": [
    "### Now predict scores on the test set and plot the distribution of scores\n",
    "You might notice that the function you've been using to predict so far does not work. Is another function you need to use? Which one? Why?"
   ]
  },
  {
   "cell_type": "code",
   "execution_count": null,
   "metadata": {
    "collapsed": true
   },
   "outputs": [],
   "source": []
  },
  {
   "cell_type": "markdown",
   "metadata": {},
   "source": [
    "### now we can select a threshold and calculate accuracy"
   ]
  },
  {
   "cell_type": "code",
   "execution_count": null,
   "metadata": {
    "collapsed": true
   },
   "outputs": [],
   "source": []
  },
  {
   "cell_type": "markdown",
   "metadata": {},
   "source": [
    "### Let's now vary values of n_estimators and see the results."
   ]
  },
  {
   "cell_type": "code",
   "execution_count": null,
   "metadata": {
    "collapsed": true
   },
   "outputs": [],
   "source": []
  },
  {
   "cell_type": "markdown",
   "metadata": {},
   "source": [
    "### what happens if we use a different base_estimator?"
   ]
  },
  {
   "cell_type": "code",
   "execution_count": null,
   "metadata": {
    "collapsed": true
   },
   "outputs": [],
   "source": []
  },
  {
   "cell_type": "markdown",
   "metadata": {},
   "source": [
    "### Now let's build precision, recall, % of population graphs for all the models above varying the different parameters "
   ]
  },
  {
   "cell_type": "code",
   "execution_count": null,
   "metadata": {
    "collapsed": true
   },
   "outputs": [],
   "source": []
  },
  {
   "cell_type": "markdown",
   "metadata": {},
   "source": [
    "### what can we learn about bagging and boosting from these results?"
   ]
  },
  {
   "cell_type": "code",
   "execution_count": null,
   "metadata": {
    "collapsed": true
   },
   "outputs": [],
   "source": []
  },
  {
   "cell_type": "markdown",
   "metadata": {},
   "source": [
    "### do bagging and boosting always improve over the base estimator used?"
   ]
  },
  {
   "cell_type": "code",
   "execution_count": null,
   "metadata": {
    "collapsed": true
   },
   "outputs": [],
   "source": []
  },
  {
   "cell_type": "markdown",
   "metadata": {},
   "source": [
    "# Random Forests\n",
    "If you have time, you can get started on exploring Random Forests that we'll cover in the next class.\n",
    "https://scikit-learn.org/stable/modules/generated/sklearn.ensemble.RandomForestClassifier.html\n",
    "\n"
   ]
  },
  {
   "cell_type": "code",
   "execution_count": null,
   "metadata": {
    "collapsed": true
   },
   "outputs": [],
   "source": []
  }
 ],
 "metadata": {
  "kernelspec": {
   "display_name": "Python 2",
   "language": "python",
   "name": "python2"
  },
  "language_info": {
   "codemirror_mode": {
    "name": "ipython",
    "version": 2
   },
   "file_extension": ".py",
   "mimetype": "text/x-python",
   "name": "python",
   "nbconvert_exporter": "python",
   "pygments_lexer": "ipython2",
   "version": "2.7.14"
  }
 },
 "nbformat": 4,
 "nbformat_minor": 2
}
